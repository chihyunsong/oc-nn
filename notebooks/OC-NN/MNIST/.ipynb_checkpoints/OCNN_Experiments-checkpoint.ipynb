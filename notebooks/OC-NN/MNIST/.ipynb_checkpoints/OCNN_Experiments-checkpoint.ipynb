{
 "cells": [
  {
   "cell_type": "code",
   "execution_count": 2,
   "metadata": {
    "colab": {
     "base_uri": "https://localhost:8080/",
     "height": 683
    },
    "colab_type": "code",
    "executionInfo": {
     "elapsed": 44769,
     "status": "ok",
     "timestamp": 1547297064118,
     "user": {
      "displayName": "Raghav Chalapathy",
      "photoUrl": "https://lh6.googleusercontent.com/-mTnxyVZGf6Y/AAAAAAAAAAI/AAAAAAAAAac/HoKq7cFHz2Q/s64/photo.jpg",
      "userId": "14403072526210189011"
     },
     "user_tz": -660
    },
    "id": "Gi5BUYsONn5Y",
    "outputId": "695ed01d-04e6-446f-af8f-397ddba319ff"
   },
   "outputs": [
    {
     "name": "stdout",
     "output_type": "stream",
     "text": [
      "Requirement already satisfied: fuel in /usr/local/lib/python3.5/dist-packages (0.2.0)\n",
      "Requirement already satisfied: six in /usr/local/lib/python3.5/dist-packages (from fuel) (1.12.0)\n",
      "Requirement already satisfied: picklable-itertools in /usr/local/lib/python3.5/dist-packages (from fuel) (0.1.1)\n",
      "Requirement already satisfied: h5py in /usr/local/lib/python3.5/dist-packages (from fuel) (2.9.0)\n",
      "Requirement already satisfied: pyzmq in /usr/local/lib/python3.5/dist-packages (from fuel) (18.0.1)\n",
      "Requirement already satisfied: numpy in /usr/local/lib/python3.5/dist-packages (from fuel) (1.16.3)\n",
      "Requirement already satisfied: requests in /usr/local/lib/python3.5/dist-packages (from fuel) (2.22.0)\n",
      "Requirement already satisfied: tables in /usr/local/lib/python3.5/dist-packages (from fuel) (3.5.2)\n",
      "Requirement already satisfied: progressbar2 in /usr/local/lib/python3.5/dist-packages (from fuel) (3.42.0)\n",
      "Requirement already satisfied: pillow in /usr/local/lib/python3.5/dist-packages (from fuel) (6.0.0)\n",
      "Requirement already satisfied: pyyaml in /usr/local/lib/python3.5/dist-packages (from fuel) (5.1.1)\n",
      "Requirement already satisfied: scipy in /usr/local/lib/python3.5/dist-packages (from fuel) (1.3.0)\n",
      "Requirement already satisfied: certifi>=2017.4.17 in /usr/local/lib/python3.5/dist-packages (from requests->fuel) (2019.3.9)\n",
      "Requirement already satisfied: urllib3!=1.25.0,!=1.25.1,<1.26,>=1.21.1 in /usr/local/lib/python3.5/dist-packages (from requests->fuel) (1.25.3)\n",
      "Requirement already satisfied: chardet<3.1.0,>=3.0.2 in /usr/local/lib/python3.5/dist-packages (from requests->fuel) (3.0.4)\n",
      "Requirement already satisfied: idna<2.9,>=2.5 in /usr/local/lib/python3.5/dist-packages (from requests->fuel) (2.8)\n",
      "Requirement already satisfied: numexpr>=2.6.2 in /usr/local/lib/python3.5/dist-packages (from tables->fuel) (2.6.9)\n",
      "Requirement already satisfied: mock>=2.0 in /usr/local/lib/python3.5/dist-packages (from tables->fuel) (2.0.0)\n",
      "Requirement already satisfied: python-utils>=2.3.0 in /usr/local/lib/python3.5/dist-packages (from progressbar2->fuel) (2.3.0)\n",
      "Requirement already satisfied: pbr>=0.11 in /usr/local/lib/python3.5/dist-packages (from mock>=2.0->tables->fuel) (5.2.0)\n",
      "\u001b[33mWARNING: You are using pip version 19.1, however version 19.1.1 is available.\n",
      "You should consider upgrading via the 'pip install --upgrade pip' command.\u001b[0m\n",
      "Requirement already satisfied: picklable_itertools in /usr/local/lib/python3.5/dist-packages (0.1.1)\n",
      "Requirement already satisfied: six in /usr/local/lib/python3.5/dist-packages (from picklable_itertools) (1.12.0)\n",
      "\u001b[33mWARNING: You are using pip version 19.1, however version 19.1.1 is available.\n",
      "You should consider upgrading via the 'pip install --upgrade pip' command.\u001b[0m\n",
      "Requirement already satisfied: sklearn in /usr/local/lib/python3.5/dist-packages (0.0)\n",
      "Requirement already satisfied: scikit-learn in /usr/local/lib/python3.5/dist-packages (from sklearn) (0.21.2)\n",
      "Requirement already satisfied: scipy>=0.17.0 in /usr/local/lib/python3.5/dist-packages (from scikit-learn->sklearn) (1.3.0)\n",
      "Requirement already satisfied: numpy>=1.11.0 in /usr/local/lib/python3.5/dist-packages (from scikit-learn->sklearn) (1.16.3)\n",
      "Requirement already satisfied: joblib>=0.11 in /usr/local/lib/python3.5/dist-packages (from scikit-learn->sklearn) (0.13.2)\n",
      "\u001b[33mWARNING: You are using pip version 19.1, however version 19.1.1 is available.\n",
      "You should consider upgrading via the 'pip install --upgrade pip' command.\u001b[0m\n",
      "Requirement already satisfied: scikit-image in /usr/local/lib/python3.5/dist-packages (0.15.0)\n",
      "Requirement already satisfied: pillow>=4.3.0 in /usr/local/lib/python3.5/dist-packages (from scikit-image) (6.0.0)\n",
      "Requirement already satisfied: networkx>=2.0 in /usr/local/lib/python3.5/dist-packages (from scikit-image) (2.3)\n",
      "Requirement already satisfied: PyWavelets>=0.4.0 in /usr/local/lib/python3.5/dist-packages (from scikit-image) (1.0.3)\n",
      "Requirement already satisfied: matplotlib!=3.0.0,>=2.0.0 in /usr/local/lib/python3.5/dist-packages (from scikit-image) (3.0.3)\n",
      "Requirement already satisfied: scipy>=0.17.0 in /usr/local/lib/python3.5/dist-packages (from scikit-image) (1.3.0)\n",
      "Requirement already satisfied: imageio>=2.0.1 in /usr/local/lib/python3.5/dist-packages (from scikit-image) (2.5.0)\n",
      "Requirement already satisfied: decorator>=4.3.0 in /usr/local/lib/python3.5/dist-packages (from networkx>=2.0->scikit-image) (4.4.0)\n",
      "Requirement already satisfied: numpy>=1.9.1 in /usr/local/lib/python3.5/dist-packages (from PyWavelets>=0.4.0->scikit-image) (1.16.3)\n",
      "Requirement already satisfied: python-dateutil>=2.1 in /usr/local/lib/python3.5/dist-packages (from matplotlib!=3.0.0,>=2.0.0->scikit-image) (2.8.0)\n",
      "Requirement already satisfied: kiwisolver>=1.0.1 in /usr/local/lib/python3.5/dist-packages (from matplotlib!=3.0.0,>=2.0.0->scikit-image) (1.1.0)\n",
      "Requirement already satisfied: cycler>=0.10 in /usr/local/lib/python3.5/dist-packages (from matplotlib!=3.0.0,>=2.0.0->scikit-image) (0.10.0)\n",
      "Requirement already satisfied: pyparsing!=2.0.4,!=2.1.2,!=2.1.6,>=2.0.1 in /usr/local/lib/python3.5/dist-packages (from matplotlib!=3.0.0,>=2.0.0->scikit-image) (2.4.0)\n",
      "Requirement already satisfied: six>=1.5 in /usr/local/lib/python3.5/dist-packages (from python-dateutil>=2.1->matplotlib!=3.0.0,>=2.0.0->scikit-image) (1.12.0)\n",
      "Requirement already satisfied: setuptools in /usr/local/lib/python3.5/dist-packages (from kiwisolver>=1.0.1->matplotlib!=3.0.0,>=2.0.0->scikit-image) (41.0.1)\n",
      "\u001b[33mWARNING: You are using pip version 19.1, however version 19.1.1 is available.\n",
      "You should consider upgrading via the 'pip install --upgrade pip' command.\u001b[0m\n",
      "Requirement already satisfied: keras in /usr/local/lib/python3.5/dist-packages (2.2.4)\n",
      "Requirement already satisfied: h5py in /usr/local/lib/python3.5/dist-packages (from keras) (2.9.0)\n",
      "Requirement already satisfied: numpy>=1.9.1 in /usr/local/lib/python3.5/dist-packages (from keras) (1.16.3)\n",
      "Requirement already satisfied: scipy>=0.14 in /usr/local/lib/python3.5/dist-packages (from keras) (1.3.0)\n",
      "Requirement already satisfied: keras-preprocessing>=1.0.5 in /usr/local/lib/python3.5/dist-packages (from keras) (1.0.9)\n",
      "Requirement already satisfied: keras-applications>=1.0.6 in /usr/local/lib/python3.5/dist-packages (from keras) (1.0.7)\n",
      "Requirement already satisfied: six>=1.9.0 in /usr/local/lib/python3.5/dist-packages (from keras) (1.12.0)\n",
      "Requirement already satisfied: pyyaml in /usr/local/lib/python3.5/dist-packages (from keras) (5.1.1)\n",
      "\u001b[33mWARNING: You are using pip version 19.1, however version 19.1.1 is available.\n",
      "You should consider upgrading via the 'pip install --upgrade pip' command.\u001b[0m\n",
      "Requirement already satisfied: opencv-python in /usr/local/lib/python3.5/dist-packages (4.1.0.25)\n",
      "Requirement already satisfied: numpy>=1.11.1 in /usr/local/lib/python3.5/dist-packages (from opencv-python) (1.16.3)\n",
      "\u001b[33mWARNING: You are using pip version 19.1, however version 19.1.1 is available.\n",
      "You should consider upgrading via the 'pip install --upgrade pip' command.\u001b[0m\n",
      "3.5.2\n"
     ]
    }
   ],
   "source": [
    "#from google.colab import drive\n",
    "#drive.mount('/content/drive')\n",
    "!pip install fuel\n",
    "!pip install picklable_itertools\n",
    "!pip install sklearn\n",
    "!pip install scikit-image\n",
    "!pip install keras\n",
    "\n",
    "\n",
    "!pip install opencv-python\n",
    "%reload_ext autoreload\n",
    "%autoreload 2\n",
    "%matplotlib inline\n",
    "import numpy as np\n",
    "PROJECT_DIR = \"/tf\"\n",
    "# PROJECT_DIR = \"/content/drive/My Drive/2018/Colab_Deep_Learning/one_class_neural_networks/\"\n",
    "import sys,os\n",
    "import numpy as np\n",
    "IMG_DIM= 784\n",
    "\n",
    "\n",
    "sys.path.append('/tf')\n",
    "import platform\n",
    "print(platform.python_version())\n"
   ]
  },
  {
   "cell_type": "markdown",
   "metadata": {
    "colab_type": "text",
    "id": "L8ciGj_uepr1"
   },
   "source": [
    "# **  One Class Neural Network 0~ 9 vs ALL Other NUMBERS**##"
   ]
  },
  {
   "cell_type": "code",
   "execution_count": 3,
   "metadata": {
    "colab": {
     "base_uri": "https://localhost:8080/",
     "height": 6905
    },
    "colab_type": "code",
    "executionInfo": {
     "elapsed": 419079,
     "status": "ok",
     "timestamp": 1542847674246,
     "user": {
      "displayName": "Raghav Chalapathy",
      "photoUrl": "https://lh6.googleusercontent.com/-mTnxyVZGf6Y/AAAAAAAAAAI/AAAAAAAAAac/HoKq7cFHz2Q/s64/photo.jpg",
      "userId": "14403072526210189011"
     },
     "user_tz": -660
    },
    "id": "r2NuiwU-eDv1",
    "outputId": "39da02a4-db91-4326-d450-dc82f7cbc836",
    "pycharm": {
     "name": "#%%\n"
    }
   },
   "outputs": [
    {
     "name": "stderr",
     "output_type": "stream",
     "text": [
      "Using TensorFlow backend.\n"
     ]
    },
    {
     "ename": "FileNotFoundError",
     "evalue": "[Errno 2] No such file or directory: '/tf/reports/figures/MNIST/OC_NN/result.csv'",
     "output_type": "error",
     "traceback": [
      "\u001b[0;31m---------------------------------------------------------------------------\u001b[0m",
      "\u001b[0;31mFileNotFoundError\u001b[0m                         Traceback (most recent call last)",
      "\u001b[0;32m<ipython-input-3-7e0eb369a5ef>\u001b[0m in \u001b[0;36m<module>\u001b[0;34m\u001b[0m\n\u001b[1;32m     24\u001b[0m \u001b[0mRANDOM_SEED\u001b[0m \u001b[0;34m=\u001b[0m \u001b[0;34m[\u001b[0m\u001b[0;36m42\u001b[0m\u001b[0;34m]\u001b[0m\u001b[0;34m\u001b[0m\u001b[0m\n\u001b[1;32m     25\u001b[0m \u001b[0mAUC\u001b[0m \u001b[0;34m=\u001b[0m \u001b[0;34m[\u001b[0m\u001b[0;34m]\u001b[0m\u001b[0;34m\u001b[0m\u001b[0m\n\u001b[0;32m---> 26\u001b[0;31m \u001b[0mf\u001b[0m \u001b[0;34m=\u001b[0m \u001b[0mopen\u001b[0m\u001b[0;34m(\u001b[0m\u001b[0mREPORT_SAVE_PATH\u001b[0m \u001b[0;34m+\u001b[0m \u001b[0;34m'result.csv'\u001b[0m\u001b[0;34m)\u001b[0m\u001b[0;34m\u001b[0m\u001b[0m\n\u001b[0m\u001b[1;32m     27\u001b[0m \u001b[0mwr\u001b[0m \u001b[0;34m=\u001b[0m \u001b[0mcsv\u001b[0m\u001b[0;34m.\u001b[0m\u001b[0mwriter\u001b[0m\u001b[0;34m(\u001b[0m\u001b[0mf\u001b[0m\u001b[0;34m)\u001b[0m\u001b[0;34m\u001b[0m\u001b[0m\n\u001b[1;32m     28\u001b[0m \u001b[0mwr\u001b[0m\u001b[0;34m.\u001b[0m\u001b[0mwriterow\u001b[0m\u001b[0;34m(\u001b[0m\u001b[0;34m[\u001b[0m\u001b[0;34m'Number'\u001b[0m\u001b[0;34m,\u001b[0m \u001b[0;34m'AUC/ROC Score'\u001b[0m\u001b[0;34m]\u001b[0m\u001b[0;34m)\u001b[0m\u001b[0;34m\u001b[0m\u001b[0m\n",
      "\u001b[0;31mFileNotFoundError\u001b[0m: [Errno 2] No such file or directory: '/tf/reports/figures/MNIST/OC_NN/result.csv'"
     ]
    }
   ],
   "source": [
    "## Obtaining the training and testing data\n",
    "%reload_ext autoreload\n",
    "%autoreload 2\n",
    "\n",
    "from src.models.OneClass_SVDD import OneClass_SVDD\n",
    "from src.models.config import Configuration as Cfg\n",
    "\n",
    "DATASET = \"mnist\"\n",
    "IMG_DIM= 784\n",
    "IMG_HGT =28\n",
    "IMG_WDT=28\n",
    "IMG_CHANNEL=1\n",
    "HIDDEN_LAYER_SIZE= 32\n",
    "MODEL_SAVE_PATH = PROJECT_DIR + \"/models/MNIST/OC_NN/\"\n",
    "REPORT_SAVE_PATH = PROJECT_DIR + \"/reports/figures/MNIST/OC_NN/\"\n",
    "PRETRAINED_WT_PATH = \"\"\n",
    "# LOSS_FUNCTION = \"SOFT_BOUND_DEEP_SVDD\"\n",
    "# LOSS_FUNCTION = \"ONE_CLASS_DEEP_SVDD\"\n",
    "LOSS_FUNCTION = \"ONE_CLASS_NEURAL_NETWORK\"\n",
    "\n",
    "import os\n",
    "import csv\n",
    "os.chdir(PROJECT_DIR)\n",
    "RANDOM_SEED = [42]\n",
    "AUC = []\n",
    "f = open(REPORT_SAVE_PATH + 'result.csv', 'w')\n",
    "wr = csv.writer(f)\n",
    "wr.writerow(['Number', 'AUC/ROC Score'])\n",
    "for mnist_normal in range(10):\n",
    "    AUC = 0\n",
    "    for seed in RANDOM_SEED:  \n",
    "        ocnn = OneClass_SVDD(DATASET,LOSS_FUNCTION,IMG_DIM, HIDDEN_LAYER_SIZE, IMG_HGT, IMG_WDT,IMG_CHANNEL, MODEL_SAVE_PATH, REPORT_SAVE_PATH,PRETRAINED_WT_PATH,seed, mnist_normal)\n",
    "    \n",
    "        print(\"[INFO:] Testing with ALL other  DIGITs  as anomalies\")\n",
    "        ocnn.fit()\n",
    "        print(\"==============PREDICTING THE LABELS ==============================\")\n",
    "        auc_score = ocnn.predict()\n",
    "        AUC.append(auc_score)\n",
    "\n",
    "    print(\"===========TRAINING AND PREDICTING WITH OCSVDD============================\")\n",
    "    print(\"AUROC computed \", AUC)\n",
    "    auc_roc_mean = np.mean(np.asarray(AUC))\n",
    "    auc_roc_std = np.std(np.asarray(AUC))\n",
    "    print (\"AUROC =====\", auc_roc_mean ,\"+/-\",auc_roc_std)\n",
    "    print(\"========================================================================\")\n",
    "    wr.write(mnist_normal, auc_roc_mean)\n",
    "f.close()\n"
   ]
  },
  {
   "cell_type": "code",
   "execution_count": null,
   "metadata": {},
   "outputs": [],
   "source": []
  }
 ],
 "metadata": {
  "accelerator": "GPU",
  "colab": {
   "collapsed_sections": [],
   "name": "OCNN_Experiments.ipynb",
   "provenance": [],
   "version": "0.3.2"
  },
  "kernelspec": {
   "display_name": "Python 3",
   "language": "python",
   "name": "python3"
  },
  "pycharm": {
   "stem_cell": {
    "cell_type": "raw",
    "metadata": {
     "collapsed": false
    },
    "source": []
   }
  }
 },
 "nbformat": 4,
 "nbformat_minor": 1
}
