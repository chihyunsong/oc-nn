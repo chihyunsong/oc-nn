{
 "cells": [
  {
   "cell_type": "code",
   "execution_count": null,
   "metadata": {},
   "outputs": [],
   "source": [
    "import cv2 \n",
    "import os \n",
    "import moviepy\n",
    "# Read the video from specified path \n",
    "cam = cv2.VideoCapture(\"/data/HuToM/01_RawData/03_Gastric_HDD/Video_Segmentation/R00006/ch1_video_01.mp4\") \n",
    "  \n",
    "try: \n",
    "      \n",
    "    # creating a folder named data \n",
    "    if not os.path.exists('validData'): \n",
    "        os.makedirs('validData') \n",
    "  \n",
    "# if not created then raise error \n",
    "except OSError: \n",
    "    print ('Error: Creating directory of data') \n",
    "  \n",
    "# frame \n",
    "currentframe = 0\n",
    "  \n",
    "while(True): \n",
    "      \n",
    "    # reading from frame \n",
    "    ret,frame = cam.read() \n",
    "  \n",
    "    if ret: \n",
    "        # if video is still left continue creating images \n",
    "        if currentframe % 100 == 0:\n",
    "            \n",
    "            name = './validData/R00006/ch1_video_01_frame' + str(currentframe) + '.jpg'\n",
    "            print ('Creating...' + name) \n",
    "\n",
    "            # writing the extracted images \n",
    "            cv2.imwrite(name, frame) \n",
    "    \n",
    "            # increasing counter so that it will \n",
    "            # show how many frames are created \n",
    "        \n",
    "        currentframe += 1\n",
    "    else: \n",
    "        break\n",
    "  \n",
    "# Release all space and windows once done \n",
    "cam.release() \n",
    "cv2.destroyAllWindows()"
   ]
  },
  {
   "cell_type": "code",
   "execution_count": null,
   "metadata": {},
   "outputs": [],
   "source": [
    "from moviepy.editor import VideoFileClip\n",
    "clip = VideoFileClip(\"/data/HuToM/01_RawData/03_Gastric_HDD/Video_Segmentation/R00003/ch1_video_03.mp4\")\n",
    "print( clip.duration )"
   ]
  },
  {
   "cell_type": "code",
   "execution_count": null,
   "metadata": {},
   "outputs": [],
   "source": [
    "!pip install moviepy\n"
   ]
  },
  {
   "cell_type": "code",
   "execution_count": null,
   "metadata": {},
   "outputs": [],
   "source": []
  }
 ],
 "metadata": {
  "kernelspec": {
   "display_name": "Python 3",
   "language": "python",
   "name": "python3"
  },
  "language_info": {
   "codemirror_mode": {
    "name": "ipython",
    "version": 3
   },
   "file_extension": ".py",
   "mimetype": "text/x-python",
   "name": "python",
   "nbconvert_exporter": "python",
   "pygments_lexer": "ipython3",
   "version": "3.5.2"
  }
 },
 "nbformat": 4,
 "nbformat_minor": 2
}
