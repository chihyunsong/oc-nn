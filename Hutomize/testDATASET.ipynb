{
 "cells": [
  {
   "cell_type": "code",
   "execution_count": 1,
   "metadata": {},
   "outputs": [],
   "source": [
    "%matplotlib inline\n",
    "import sys,os\n",
    "import numpy as np\n",
    "PROJECT_DIR = '/tf/Hutomize'\n",
    "sys.path.append(PROJECT_DIR)\n",
    "from src.Dataset import SurgicalDataset\n",
    "import tensorflow as tf\n"
   ]
  },
  {
   "cell_type": "code",
   "execution_count": 2,
   "metadata": {},
   "outputs": [],
   "source": [
    "a = SurgicalDataset('data')\n"
   ]
  },
  {
   "cell_type": "code",
   "execution_count": 3,
   "metadata": {},
   "outputs": [
    {
     "name": "stdout",
     "output_type": "stream",
     "text": [
      "/tf/Hutomize/data/video2/frame62418.jpg\n",
      "111.08333333333333\n"
     ]
    }
   ],
   "source": [
    "print(a.totalVideo[199900])\n",
    "print(len(a.totalVideo[::30]) / 60)"
   ]
  },
  {
   "cell_type": "code",
   "execution_count": 4,
   "metadata": {},
   "outputs": [
    {
     "name": "stdout",
     "output_type": "stream",
     "text": [
      "WARNING:tensorflow:From /usr/local/lib/python3.5/dist-packages/tensorflow/python/ops/control_flow_ops.py:3632: colocate_with (from tensorflow.python.framework.ops) is deprecated and will be removed in a future version.\n",
      "Instructions for updating:\n",
      "Colocations handled automatically by placer.\n"
     ]
    }
   ],
   "source": [
    "iterator = a.prepareData(30,50)"
   ]
  },
  {
   "cell_type": "code",
   "execution_count": 5,
   "metadata": {},
   "outputs": [
    {
     "name": "stdout",
     "output_type": "stream",
     "text": [
      "WARNING:tensorflow:From <ipython-input-5-1f67a9ba8603>:2: conv2d (from tensorflow.python.layers.convolutional) is deprecated and will be removed in a future version.\n",
      "Instructions for updating:\n",
      "Use keras.layers.conv2d instead.\n",
      "WARNING:tensorflow:From <ipython-input-5-1f67a9ba8603>:3: max_pooling2d (from tensorflow.python.layers.pooling) is deprecated and will be removed in a future version.\n",
      "Instructions for updating:\n",
      "Use keras.layers.max_pooling2d instead.\n",
      "WARNING:tensorflow:From <ipython-input-5-1f67a9ba8603>:8: flatten (from tensorflow.python.layers.core) is deprecated and will be removed in a future version.\n",
      "Instructions for updating:\n",
      "Use keras.layers.flatten instead.\n",
      "WARNING:tensorflow:From <ipython-input-5-1f67a9ba8603>:9: dense (from tensorflow.python.layers.core) is deprecated and will be removed in a future version.\n",
      "Instructions for updating:\n",
      "Use keras.layers.dense instead.\n",
      "WARNING:tensorflow:From /usr/local/lib/python3.5/dist-packages/tensorflow/python/ops/losses/losses_impl.py:667: to_float (from tensorflow.python.ops.math_ops) is deprecated and will be removed in a future version.\n",
      "Instructions for updating:\n",
      "Use tf.cast instead.\n"
     ]
    }
   ],
   "source": [
    "images, labels = iterator.get_next()\n",
    "net = tf.layers.conv2d(images, 16,(3,3), activation=tf.tanh, padding='same')\n",
    "net = tf.layers.max_pooling2d(net, (2,2), (1,1), padding='same')\n",
    "net = tf.layers.conv2d(net, 16,(3,3), activation=tf.tanh, padding='same')\n",
    "net = tf.layers.max_pooling2d(net, (2,2), (1,1), padding='same')\n",
    "net = tf.layers.conv2d(net, 16,(3,3), activation=tf.tanh, padding='same')\n",
    "net = tf.layers.max_pooling2d(net, (2,2), (1,1), padding='same')\n",
    "net = tf.layers.flatten(net)\n",
    "net = tf.layers.dense(net, 8) # pass the first value from iter.get_next() as input\n",
    "net = tf.layers.dense(net, 8)\n",
    "prediction = tf.layers.dense(net, 1)\n",
    "loss = tf.losses.mean_squared_error(prediction, labels) # pass the second value from iter.get_net() as label\n",
    "train_op = tf.train.AdamOptimizer().minimize(loss)\n"
   ]
  },
  {
   "cell_type": "code",
   "execution_count": 6,
   "metadata": {},
   "outputs": [
    {
     "name": "stdout",
     "output_type": "stream",
     "text": [
      "Iter: 0, Loss: 0.0225\n",
      "Iter: 1, Loss: 19953.2422\n",
      "Iter: 2, Loss: 4291.4829\n",
      "Iter: 3, Loss: 11276.0859\n",
      "Iter: 4, Loss: 1094.5944\n",
      "Iter: 5, Loss: 2568.4290\n",
      "Iter: 6, Loss: 11406.4990\n",
      "Iter: 7, Loss: 1049.2560\n",
      "Iter: 8, Loss: 2433.8049\n",
      "Iter: 9, Loss: 3066.9138\n",
      "Iter: 10, Loss: 996.3988\n",
      "Iter: 11, Loss: 274.4776\n",
      "Iter: 12, Loss: 1558.5286\n",
      "Iter: 13, Loss: 2094.7893\n",
      "Iter: 14, Loss: 3659.3003\n",
      "Iter: 15, Loss: 1583.0964\n",
      "Iter: 16, Loss: 118.1404\n",
      "Iter: 17, Loss: 1283.1139\n",
      "Iter: 18, Loss: 2025.1921\n",
      "Iter: 19, Loss: 2209.9404\n",
      "Iter: 20, Loss: 685.1317\n",
      "Iter: 21, Loss: 78.2173\n",
      "Iter: 22, Loss: 95.3217\n",
      "Iter: 23, Loss: 349.7928\n",
      "Iter: 24, Loss: 711.1178\n",
      "Iter: 25, Loss: 637.1302\n",
      "Iter: 26, Loss: 600.3839\n",
      "Iter: 27, Loss: 69.2913\n",
      "Iter: 28, Loss: 111.0201\n",
      "Iter: 29, Loss: 309.5901\n",
      "Iter: 30, Loss: 54.9810\n",
      "Iter: 31, Loss: 214.1027\n",
      "Iter: 32, Loss: 55.9991\n",
      "Iter: 33, Loss: 205.1154\n",
      "Iter: 34, Loss: 538.0801\n",
      "Iter: 35, Loss: 315.5885\n",
      "Iter: 36, Loss: 48.7258\n",
      "Iter: 37, Loss: 41.7975\n",
      "Iter: 38, Loss: 51.2293\n",
      "Iter: 39, Loss: 67.4812\n",
      "Iter: 40, Loss: 17.2709\n",
      "Iter: 41, Loss: 20.3315\n",
      "Iter: 42, Loss: 16.9210\n",
      "Iter: 43, Loss: 89.5226\n",
      "Iter: 44, Loss: 48.2519\n",
      "Iter: 45, Loss: 145.3271\n",
      "Iter: 46, Loss: 124.2590\n",
      "Iter: 47, Loss: 52.1709\n",
      "Iter: 48, Loss: 115.2871\n",
      "Iter: 49, Loss: 132.1390\n",
      "Iter: 50, Loss: 60.8039\n",
      "Iter: 51, Loss: 41.7474\n",
      "Iter: 52, Loss: 31.6189\n",
      "Iter: 53, Loss: 15.3978\n",
      "Iter: 54, Loss: 7.4131\n",
      "Iter: 55, Loss: 11.9517\n",
      "Iter: 56, Loss: 22.5116\n",
      "Iter: 57, Loss: 97.8776\n",
      "Iter: 58, Loss: 99.2628\n",
      "Iter: 59, Loss: 44.7262\n",
      "Iter: 60, Loss: 17.9521\n",
      "Iter: 61, Loss: 8.9580\n",
      "Iter: 62, Loss: 32.4873\n",
      "Iter: 63, Loss: 41.4717\n",
      "Iter: 64, Loss: 67.1281\n",
      "Iter: 65, Loss: 24.7208\n",
      "Iter: 66, Loss: 33.4635\n",
      "Iter: 67, Loss: 9.1822\n",
      "Iter: 68, Loss: 5.0955\n",
      "Iter: 69, Loss: 3.6945\n",
      "Iter: 70, Loss: 37.7002\n",
      "Iter: 71, Loss: 16.4634\n",
      "Iter: 72, Loss: 67.7651\n",
      "Iter: 73, Loss: 57.4012\n",
      "Iter: 74, Loss: 20.6324\n",
      "Iter: 75, Loss: 7.5800\n",
      "Iter: 76, Loss: 28.5756\n",
      "Iter: 77, Loss: 26.2011\n",
      "Iter: 78, Loss: 14.3951\n",
      "Iter: 79, Loss: 16.1460\n",
      "Iter: 80, Loss: 5.7868\n",
      "Iter: 81, Loss: 2.4219\n",
      "Iter: 82, Loss: 1.5046\n",
      "Iter: 83, Loss: 1.9778\n",
      "Iter: 84, Loss: 2.7998\n",
      "Iter: 85, Loss: 15.7697\n",
      "Iter: 86, Loss: 27.4393\n",
      "Iter: 87, Loss: 18.8690\n",
      "Iter: 88, Loss: 4.2898\n",
      "Iter: 89, Loss: 4.1868\n",
      "Iter: 90, Loss: 5.3769\n",
      "Iter: 91, Loss: 19.7365\n",
      "Iter: 92, Loss: 8.9609\n",
      "Iter: 93, Loss: 15.9372\n",
      "Iter: 94, Loss: 12.4646\n",
      "Iter: 95, Loss: 20.0677\n",
      "Iter: 96, Loss: 24.0509\n",
      "Iter: 97, Loss: 25.6640\n",
      "Iter: 98, Loss: 13.9821\n",
      "Iter: 99, Loss: 21.6093\n"
     ]
    }
   ],
   "source": [
    "with tf.Session() as sess:\n",
    "    sess.run(tf.global_variables_initializer())\n",
    "    for i in range(100):\n",
    "        \n",
    "        _, loss_value = sess.run([train_op, loss])\n",
    "        print(\"Iter: {}, Loss: {:.4f}\".format(i, loss_value))"
   ]
  },
  {
   "cell_type": "code",
   "execution_count": null,
   "metadata": {},
   "outputs": [],
   "source": []
  },
  {
   "cell_type": "code",
   "execution_count": null,
   "metadata": {},
   "outputs": [],
   "source": []
  },
  {
   "cell_type": "code",
   "execution_count": null,
   "metadata": {},
   "outputs": [],
   "source": [
    "with tf.Session() as sess:\n",
    "    plt.imshow(cropped[3].eval())\n"
   ]
  },
  {
   "cell_type": "code",
   "execution_count": null,
   "metadata": {},
   "outputs": [],
   "source": [
    "\n",
    "\n",
    "\n",
    "    "
   ]
  },
  {
   "cell_type": "code",
   "execution_count": null,
   "metadata": {},
   "outputs": [],
   "source": [
    "\n",
    "    "
   ]
  },
  {
   "cell_type": "code",
   "execution_count": null,
   "metadata": {},
   "outputs": [],
   "source": []
  },
  {
   "cell_type": "code",
   "execution_count": null,
   "metadata": {},
   "outputs": [],
   "source": []
  }
 ],
 "metadata": {
  "kernelspec": {
   "display_name": "Python 3",
   "language": "python",
   "name": "python3"
  },
  "language_info": {
   "codemirror_mode": {
    "name": "ipython",
    "version": 3
   },
   "file_extension": ".py",
   "mimetype": "text/x-python",
   "name": "python",
   "nbconvert_exporter": "python",
   "pygments_lexer": "ipython3",
   "version": "3.5.2"
  }
 },
 "nbformat": 4,
 "nbformat_minor": 2
}
